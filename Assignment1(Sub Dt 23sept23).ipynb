{
 "cells": [
  {
   "cell_type": "markdown",
   "id": "b2870298",
   "metadata": {},
   "source": [
    " ##                                                          Assignment 1"
   ]
  },
  {
   "cell_type": "markdown",
   "id": "c510164b",
   "metadata": {},
   "source": [
    "### Exercise 1: Print First 10 natural numbers using while loop\\n"
   ]
  },
  {
   "cell_type": "markdown",
   "id": "4d388550",
   "metadata": {},
   "source": [
    "### "
   ]
  },
  {
   "cell_type": "code",
   "execution_count": 1,
   "id": "7e2b4ed6",
   "metadata": {},
   "outputs": [
    {
     "name": "stdout",
     "output_type": "stream",
     "text": [
      "1\n",
      "2\n",
      "3\n",
      "4\n",
      "5\n",
      "6\n",
      "7\n",
      "8\n",
      "9\n",
      "10\n"
     ]
    }
   ],
   "source": [
    "#here we use while loop for printing 10 natural numbers.\n",
    "# so for getting 10 natural numbers we have give 11 as end range because while loop exclude end range.\n",
    "\n",
    "i = 1\n",
    "while i<11:\n",
    "    print(i)\n",
    "    i=i+1\n"
   ]
  },
  {
   "cell_type": "markdown",
   "id": "6d18b95b",
   "metadata": {},
   "source": [
    "### "
   ]
  },
  {
   "cell_type": "markdown",
   "id": "c05d09d4",
   "metadata": {},
   "source": [
    "###\n",
    "### Exercise 2: Print the following pattern:  \n",
    "#### 1111\\n\n",
    "#### 111\\n\n",
    "#### 11\\n\n",
    "#### 1\\n"
   ]
  },
  {
   "cell_type": "code",
   "execution_count": 2,
   "id": "5e944f9f",
   "metadata": {},
   "outputs": [
    {
     "name": "stdout",
     "output_type": "stream",
     "text": [
      "1111\n",
      " 111\n",
      "  11\n",
      "   1\n"
     ]
    }
   ],
   "source": [
    "# for printing the pattern we have to use for loop \n",
    "# as a given condition we have to take 4 to 0 range in reverse order\n",
    "\n",
    "for i in range(4, 0, -1):  # this for loop is for rows \n",
    "    for j in range(4, i, -1):  # Print spaces in between values \n",
    "        print(\" \", end=\"\")\n",
    "    for k in range(i):  # Inner loop for numbers\n",
    "        print(\"1\", end=\"\")\n",
    "    print()  # Move to the next line after each row\n"
   ]
  },
  {
   "cell_type": "markdown",
   "id": "8e7daded",
   "metadata": {},
   "source": [
    "### "
   ]
  },
  {
   "cell_type": "markdown",
   "id": "7df76428",
   "metadata": {},
   "source": [
    "### Exercise 3: Calculate the sum of all numbers from 1 to a given number\\n"
   ]
  },
  {
   "cell_type": "markdown",
   "id": "9a7dd4ae",
   "metadata": {},
   "source": [
    "### "
   ]
  },
  {
   "cell_type": "code",
   "execution_count": 3,
   "id": "19c1228a",
   "metadata": {},
   "outputs": [
    {
     "name": "stdout",
     "output_type": "stream",
     "text": [
      "Enter number: 9\n",
      "Sum of given number  9 from 1 to end is 45\n"
     ]
    }
   ],
   "source": [
    "# taking user input number to calculate sum \n",
    "\n",
    "num = int(input(\"Enter number: \"))\n",
    "\n",
    "# here we assign total named variable to calculate sum of user input number.\n",
    "# by using sum and range function we calculate sum of numbers.\n",
    "\n",
    "total= sum(range(1,num+1))\n",
    "\n",
    "#below we print the sum of all number given by user from 1\n",
    "\n",
    "print(\"Sum of given number \", num , \"from 1 to end is\", total)"
   ]
  },
  {
   "cell_type": "markdown",
   "id": "9399eb5d",
   "metadata": {},
   "source": [
    "### "
   ]
  },
  {
   "cell_type": "markdown",
   "id": "a7466d1a",
   "metadata": {},
   "source": [
    "###  Exercise 4: Write a program to print multiplication table of a given number"
   ]
  },
  {
   "cell_type": "code",
   "execution_count": 1,
   "id": "efcf5fb7",
   "metadata": {},
   "outputs": [
    {
     "name": "stdout",
     "output_type": "stream",
     "text": [
      "Enter a number: 15\n",
      "Multiplication table for 15:\n",
      "15 x 1 = 15\n",
      "15 x 2 = 30\n",
      "15 x 3 = 45\n",
      "15 x 4 = 60\n",
      "15 x 5 = 75\n",
      "15 x 6 = 90\n",
      "15 x 7 = 105\n",
      "15 x 8 = 120\n",
      "15 x 9 = 135\n",
      "15 x 10 = 150\n"
     ]
    }
   ],
   "source": [
    "# Input the number by user which user want to print the multiplication table\n",
    "number = int(input(\"Enter a number: \"))\n",
    "\n",
    "# Print the multiplication table and we use format function here \"f \" means format\n",
    "print(f\"Multiplication table for {number}:\")\n",
    "\n",
    "for i in range(1, 11):\n",
    "    result = number * i\n",
    "    print(f\"{number} x {i} = {result}\")\n"
   ]
  },
  {
   "cell_type": "markdown",
   "id": "10d784ba",
   "metadata": {},
   "source": [
    "### "
   ]
  },
  {
   "cell_type": "markdown",
   "id": "52ee3644",
   "metadata": {},
   "source": [
    "### Exercise 5: Display numbers from a list using loop\\n"
   ]
  },
  {
   "cell_type": "code",
   "execution_count": 10,
   "id": "8ec23e15",
   "metadata": {},
   "outputs": [
    {
     "name": "stdout",
     "output_type": "stream",
     "text": [
      "5\n",
      "8\n",
      "9\n",
      "7\n",
      "3\n",
      "6\n",
      "1\n",
      "2.5\n",
      "3.5\n",
      "6.01\n",
      "ghg\n"
     ]
    }
   ],
   "source": [
    "# To display numbers from list create a list with elements\n",
    "\n",
    "\n",
    "lst = [5,8,9,7,3,6,1,2.5,3.5,6.01,'ghg']\n",
    "\n",
    "#now create a for loop to execute every element of list from index 0 to length of list\n",
    "\n",
    "for i in range(0, len(lst)):\n",
    "    \n",
    "    print(lst[i])"
   ]
  },
  {
   "cell_type": "markdown",
   "id": "8575c694",
   "metadata": {},
   "source": [
    "### "
   ]
  },
  {
   "cell_type": "markdown",
   "id": "5acdf592",
   "metadata": {},
   "source": [
    "### Exercise 6: Count the total number of digits in a number\\n"
   ]
  },
  {
   "cell_type": "code",
   "execution_count": 22,
   "id": "bcc2ebf2",
   "metadata": {},
   "outputs": [
    {
     "name": "stdout",
     "output_type": "stream",
     "text": [
      "Enter a number: 1234\n",
      "Total number of digits in 1234 are 4\n"
     ]
    }
   ],
   "source": [
    "# here we take input from user as integer to calculate no of digit\n",
    "num = int(input(\"Enter a number: \"))\n",
    "\n",
    "#to calculate no of digits of number we have to convert it in to string bcoz integer does not support len function.\n",
    "num_str = str(num)\n",
    "\n",
    "#now count digits of a number by using len() method\n",
    "num_digits = len(num_str)\n",
    "\n",
    "# using format we print digits of number\n",
    "print(\"Total number of digits in {} are {}\".format(num, num_digits))\n"
   ]
  },
  {
   "cell_type": "markdown",
   "id": "fb6e90ef",
   "metadata": {},
   "source": [
    "### "
   ]
  },
  {
   "cell_type": "markdown",
   "id": "2f18cb02",
   "metadata": {},
   "source": [
    "### Exercise 7: Print the following pattern : Diamond shape"
   ]
  },
  {
   "cell_type": "code",
   "execution_count": 38,
   "id": "c0d8cedc",
   "metadata": {},
   "outputs": [
    {
     "name": "stdout",
     "output_type": "stream",
     "text": [
      "Enter the number of rows for the diamond: 5\n",
      "  *\n",
      " ***\n",
      "*****\n",
      " ***\n",
      "  *\n"
     ]
    }
   ],
   "source": [
    "# Get the number of rows for the diamond mostly try it would be an odd number\n",
    "n = int(input(\"Enter the number of rows for the diamond: \"))\n",
    "\n",
    "# let we have to ensure that the number of rows is odd if it is even then add 1 to n\n",
    "if n % 2 == 0:\n",
    "    n += 1\n",
    "\n",
    "# Upper part of the diamond pattern \n",
    "for i in range(1, n + 1, 2):\n",
    "    spaces = (n - i) // 2\n",
    "    print(\" \" * spaces + \"*\" * i)\n",
    "\n",
    "# Lower part of the diamond pattern\n",
    "for i in range(n - 2, 0, -2):\n",
    "    spaces = (n - i) // 2\n",
    "    print(\" \" * spaces + \"*\" * i)"
   ]
  },
  {
   "cell_type": "markdown",
   "id": "6428bb15",
   "metadata": {},
   "source": [
    "### Exercise 8: Print list in reverse order using a loop"
   ]
  },
  {
   "cell_type": "code",
   "execution_count": 63,
   "id": "f4b277ce",
   "metadata": {},
   "outputs": [
    {
     "name": "stdout",
     "output_type": "stream",
     "text": [
      "9\n",
      "8\n",
      "7\n",
      "6\n",
      "5\n",
      "4\n",
      "3\n",
      "2\n",
      "1\n"
     ]
    }
   ],
   "source": [
    "# we need to create a list\n",
    "\n",
    "List = [1,2,3,4,5,6,7,8,9]\n",
    "\n",
    "## we should use [::-1] also for reversing or reversed keyword instead of List slicing\n",
    "## item is inbuilt keyword of python which is use to get all element or items in a list  \n",
    "for item in List[-1:-10:-1]:  \n",
    "    print(item)"
   ]
  },
  {
   "cell_type": "markdown",
   "id": "0d71c60d",
   "metadata": {},
   "source": [
    "### "
   ]
  },
  {
   "cell_type": "markdown",
   "id": "082ec6c4",
   "metadata": {},
   "source": [
    "### Exercise 9: Display numbers from -10 to -1 using for loop"
   ]
  },
  {
   "cell_type": "code",
   "execution_count": 2,
   "id": "f8eaa175",
   "metadata": {},
   "outputs": [
    {
     "name": "stdout",
     "output_type": "stream",
     "text": [
      "-10\n",
      "-9\n",
      "-8\n",
      "-7\n",
      "-6\n",
      "-5\n",
      "-4\n",
      "-3\n",
      "-2\n",
      "-1\n"
     ]
    }
   ],
   "source": [
    "# here we use simply range between -10 to 0 zero in which 0 is exclusive so we use for loop for this\n",
    "\n",
    "for i in range(-10,0):\n",
    "    print(i)"
   ]
  },
  {
   "cell_type": "markdown",
   "id": "f325a7ec",
   "metadata": {},
   "source": [
    "### "
   ]
  },
  {
   "cell_type": "markdown",
   "id": "b2669819",
   "metadata": {},
   "source": [
    "### Exercise 10: Use else block to display a message “Done” after successful execution of for loop"
   ]
  },
  {
   "cell_type": "code",
   "execution_count": 16,
   "id": "84ba3af3",
   "metadata": {},
   "outputs": [
    {
     "name": "stdout",
     "output_type": "stream",
     "text": [
      "Done\n"
     ]
    }
   ],
   "source": [
    "# as a question said we have to use for loop with else block and print(Done)\n",
    "\n",
    "for i in range(0):\n",
    "    pass\n",
    "else:\n",
    "    print(\"Done\")"
   ]
  },
  {
   "cell_type": "markdown",
   "id": "c403f578",
   "metadata": {},
   "source": [
    "### "
   ]
  },
  {
   "cell_type": "markdown",
   "id": "707319fd",
   "metadata": {},
   "source": [
    "### Exercise 11: Write a program to display all prime numbers within a range"
   ]
  },
  {
   "cell_type": "code",
   "execution_count": 24,
   "id": "0d70118f",
   "metadata": {},
   "outputs": [
    {
     "name": "stdout",
     "output_type": "stream",
     "text": [
      "enter the starting number: 1\n",
      "enter the end range number: 15\n",
      "Prime number in range (1, 15)\n",
      "2\n",
      "3\n",
      "5\n",
      "7\n",
      "11\n",
      "13\n"
     ]
    }
   ],
   "source": [
    "def is_prime(num):\n",
    "    if num < 2:\n",
    "        return False\n",
    "    for i in range(2,int(num **0.5)+1):\n",
    "        if num %i == 0:\n",
    "            return False\n",
    "    return True\n",
    "start_range = int(input(\"enter the starting number: \"))\n",
    "end_range = int(input(\"enter the end range number: \"))\n",
    "\n",
    "print(\"Prime number in range\",(start_range,end_range))\n",
    "\n",
    "for num in range(start_range,end_range + 1):\n",
    "    if is_prime(num):\n",
    "        print(num)"
   ]
  },
  {
   "cell_type": "markdown",
   "id": "d4956ad1",
   "metadata": {},
   "source": [
    "### "
   ]
  },
  {
   "cell_type": "markdown",
   "id": "cc973cc0",
   "metadata": {},
   "source": [
    "### Exercise 12: Display Fibonacci series up to 10 terms"
   ]
  },
  {
   "cell_type": "code",
   "execution_count": 33,
   "id": "5cda3707",
   "metadata": {},
   "outputs": [
    {
     "name": "stdout",
     "output_type": "stream",
     "text": [
      "1 2 3 5 8 13 21 34 55 89 "
     ]
    }
   ],
   "source": [
    "# so here we take two variables a & b with value 1 & 2 for create fibonacci series from 1.\n",
    "\n",
    "a,b = 1,2\n",
    "\n",
    "#here we assign the number upto the fibonacci should be display\n",
    "fib_term = 10\n",
    "\n",
    "# after that we have used for loop in which we give range of previous declared variable to iterate it 10 times \n",
    "for i in range(fib_term):\n",
    "    print(a, end=\" \")       # here this print function prints the value of first element of a and after that,\n",
    "    a,b = b, a+b            #after iteration we change the value or update the value of a and b from previous,\n",
    "                            #it means the value of 'a' will 'b' and value of 'b' will be 'a+b'"
   ]
  },
  {
   "cell_type": "markdown",
   "id": "30138928",
   "metadata": {},
   "source": [
    "### "
   ]
  },
  {
   "cell_type": "markdown",
   "id": "bd73c1b3",
   "metadata": {},
   "source": [
    "### Exercise 13: Find the factorial of a given number"
   ]
  },
  {
   "cell_type": "code",
   "execution_count": 39,
   "id": "4b144167",
   "metadata": {},
   "outputs": [
    {
     "name": "stdout",
     "output_type": "stream",
     "text": [
      "enter the number: 5\n",
      "The factorial of 5 is 120\n"
     ]
    }
   ],
   "source": [
    "num = int(input(\"enter the number: \"))\n",
    "\n",
    "facts = 1\n",
    "\n",
    "for i in range(1,num+1):\n",
    "    facts *= i\n",
    "    \n",
    "print(f\"The factorial of {num} is {facts}\")"
   ]
  },
  {
   "cell_type": "markdown",
   "id": "e5666572",
   "metadata": {},
   "source": [
    "### "
   ]
  },
  {
   "cell_type": "markdown",
   "id": "2c45d304",
   "metadata": {},
   "source": [
    "### Exercise 14: Reverse a given integer number"
   ]
  },
  {
   "cell_type": "code",
   "execution_count": 9,
   "id": "02bae0a3",
   "metadata": {},
   "outputs": [
    {
     "name": "stdout",
     "output_type": "stream",
     "text": [
      "enter the number: 456\n",
      "the reversed of a given number 456 is 654\n"
     ]
    }
   ],
   "source": [
    "num = int(input(\"enter the number: \"))\n",
    "\n",
    "reverse_num = int(str(num)[::-1])\n",
    "\n",
    "print(f'the reversed of a given number {num} is {reverse_num}')"
   ]
  },
  {
   "cell_type": "markdown",
   "id": "dbfbc590",
   "metadata": {},
   "source": [
    "### "
   ]
  },
  {
   "cell_type": "markdown",
   "id": "bf80572e",
   "metadata": {},
   "source": [
    "### Exercise 15: Use a loop to display elements from a given list present at odd index positions"
   ]
  },
  {
   "cell_type": "code",
   "execution_count": 18,
   "id": "99995438",
   "metadata": {},
   "outputs": [
    {
     "name": "stdout",
     "output_type": "stream",
     "text": [
      "enter elements of a list:1 2 3 4 5 6 7 8 9\n",
      "\n",
      "the list is : ['1', '2', '3', '4', '5', '6', '7', '8', '9']\n",
      "\n",
      "The odd index position elements in list are: \n",
      "2\n",
      "4\n",
      "6\n",
      "8\n"
     ]
    }
   ],
   "source": [
    "is_list = (input(\"enter elements of a list:\"))\n",
    "user_list = is_list.split()\n",
    "print()\n",
    "print(f\"the list is : {user_list}\")\n",
    "\n",
    "print()\n",
    "print(\"The odd index position elements in list are: \")\n",
    "for i in range(1, len(user_list),2):\n",
    "    print(user_list[i])\n"
   ]
  },
  {
   "cell_type": "markdown",
   "id": "94b53ba5",
   "metadata": {},
   "source": [
    "### "
   ]
  },
  {
   "cell_type": "markdown",
   "id": "babc9bea",
   "metadata": {},
   "source": [
    "### Exercise 16: Calculate the cube of all numbers from 1 to a given number"
   ]
  },
  {
   "cell_type": "code",
   "execution_count": 24,
   "id": "46943eec",
   "metadata": {},
   "outputs": [
    {
     "name": "stdout",
     "output_type": "stream",
     "text": [
      "enter a number: 10\n",
      "the cube of 1 is: 1\n",
      "the cube of 2 is: 8\n",
      "the cube of 3 is: 27\n",
      "the cube of 4 is: 64\n",
      "the cube of 5 is: 125\n",
      "the cube of 6 is: 216\n",
      "the cube of 7 is: 343\n",
      "the cube of 8 is: 512\n",
      "the cube of 9 is: 729\n",
      "the cube of 10 is: 1000\n"
     ]
    }
   ],
   "source": [
    "#we have to calculate cube of all number from 1 to given range inclusive.\n",
    "num = int(input(\"enter a number: \"))\n",
    "#here we take input as end range from user and after that we have to use for loop for range(1,num)\n",
    "\n",
    "for i in range(1,num+1):       #we use end range as +1 because we want end range is inclusive\n",
    "    cube=i**3\n",
    "    print(f\"the cube of {i} is: {cube}\")"
   ]
  },
  {
   "cell_type": "markdown",
   "id": "0bc86c52",
   "metadata": {},
   "source": [
    "### "
   ]
  },
  {
   "cell_type": "markdown",
   "id": "64380022",
   "metadata": {},
   "source": [
    "### Exercise 17: Find the sum of the series upto n terms"
   ]
  },
  {
   "cell_type": "code",
   "execution_count": 30,
   "id": "a55222fc",
   "metadata": {},
   "outputs": [
    {
     "name": "stdout",
     "output_type": "stream",
     "text": [
      "Enter the n terms: 10\n",
      "the sum of series from 1 to 10 terms is 55\n"
     ]
    }
   ],
   "source": [
    "n = int(input(\"Enter the n terms: \"))\n",
    "\n",
    "series = 0\n",
    "\n",
    "for i in range(1,n+1):\n",
    "    series += i\n",
    "print(f'the sum of series from 1 to {n} terms is {series}')"
   ]
  },
  {
   "cell_type": "markdown",
   "id": "8a6ab532",
   "metadata": {},
   "source": [
    "### "
   ]
  },
  {
   "cell_type": "markdown",
   "id": "3e6c74d7",
   "metadata": {},
   "source": [
    "### Exercise 18: Print the following pattern:\n",
    "             1\n",
    "             1 2 \n",
    "             1 2 3 \n",
    "             1 2 3 4\n",
    "             1 2 3 4 5"
   ]
  },
  {
   "cell_type": "code",
   "execution_count": 38,
   "id": "302ddb38",
   "metadata": {},
   "outputs": [
    {
     "name": "stdout",
     "output_type": "stream",
     "text": [
      "Enter the number of rows: 5\n",
      "1 \n",
      "1 2 \n",
      "1 2 3 \n",
      "1 2 3 4 \n",
      "1 2 3 4 5 \n"
     ]
    }
   ],
   "source": [
    "# take input the number of rows for the pattern\n",
    "n = int(input(\"Enter the number of rows: \"))\n",
    "\n",
    "# for loop to print the pattern\n",
    "for i in range(1, n + 1):\n",
    "    for j in range(1, i + 1):\n",
    "        print(j, end=\" \")\n",
    "    print()\n"
   ]
  },
  {
   "cell_type": "markdown",
   "id": "8d32135f",
   "metadata": {},
   "source": [
    "### "
   ]
  },
  {
   "cell_type": "markdown",
   "id": "5e20aa2e",
   "metadata": {},
   "source": [
    "## Complete assignment 1 "
   ]
  },
  {
   "cell_type": "raw",
   "id": "e28a309c",
   "metadata": {},
   "source": []
  }
 ],
 "metadata": {
  "kernelspec": {
   "display_name": "Python 3 (ipykernel)",
   "language": "python",
   "name": "python3"
  },
  "language_info": {
   "codemirror_mode": {
    "name": "ipython",
    "version": 3
   },
   "file_extension": ".py",
   "mimetype": "text/x-python",
   "name": "python",
   "nbconvert_exporter": "python",
   "pygments_lexer": "ipython3",
   "version": "3.10.9"
  }
 },
 "nbformat": 4,
 "nbformat_minor": 5
}
